{
  "nbformat": 4,
  "nbformat_minor": 0,
  "metadata": {
    "colab": {
      "provenance": [],
      "gpuType": "T4",
      "authorship_tag": "ABX9TyPDSKThvEZgeOcf/zjM4yAu",
      "include_colab_link": true
    },
    "kernelspec": {
      "name": "python3",
      "display_name": "Python 3"
    },
    "language_info": {
      "name": "python"
    },
    "accelerator": "GPU"
  },
  "cells": [
    {
      "cell_type": "markdown",
      "metadata": {
        "id": "view-in-github",
        "colab_type": "text"
      },
      "source": [
        "<a href=\"https://colab.research.google.com/github/eduardburlacu/Transformer/blob/master/ConvolutionalAutoencoder.ipynb\" target=\"_parent\"><img src=\"https://colab.research.google.com/assets/colab-badge.svg\" alt=\"Open In Colab\"/></a>"
      ]
    },
    {
      "cell_type": "code",
      "execution_count": 46,
      "metadata": {
        "id": "G9CMYnD9_Rfg"
      },
      "outputs": [],
      "source": [
        "import torch\n",
        "import torch.nn as nn\n",
        "import torch.nn.functional as F\n",
        "import torchvision\n",
        "from torchvision import transforms\n",
        "from torch.utils.data import DataLoader"
      ]
    },
    {
      "cell_type": "code",
      "source": [
        "if torch.cuda.is_available():\n",
        "  DEVICE = torch.device('cuda')\n",
        "else: DEVICE = torch.device('cpu')\n",
        "print(print(\n",
        "    f\"Training on {DEVICE} using PyTorch {torch.__version__}\")\n",
        ")"
      ],
      "metadata": {
        "colab": {
          "base_uri": "https://localhost:8080/"
        },
        "id": "4FeUy09jIoDR",
        "outputId": "2701a6f4-510e-496f-b484-b50513ebe91e"
      },
      "execution_count": 47,
      "outputs": [
        {
          "output_type": "stream",
          "name": "stdout",
          "text": [
            "Training on cuda using PyTorch 2.0.1+cu118\n",
            "None\n"
          ]
        }
      ]
    },
    {
      "cell_type": "code",
      "source": [
        "class Encoder(nn.Module):\n",
        "  def __init__(self, input_channels:int =1,*args, **kwargs):\n",
        "    super(Encoder, self).__init__(*args, **kwargs)\n",
        "    self.input_channels = input_channels\n",
        "    self.layer1 = nn.Conv2d(self.input_channels, 20, 3)\n",
        "    self.layer2 = nn.Conv2d(20, 10, 3)\n",
        "    self.layer3 = nn.Conv2d(10, 5, 3)\n",
        "    self.layer4 = nn.Conv2d(5, 3, 3)\n",
        "\n",
        "  def forward(self, x):\n",
        "    y = F.relu(self.layer1(x))\n",
        "    y = F.relu(self.layer2(y))\n",
        "    y = F.relu(self.layer3(y))\n",
        "    y = self.layer4(y)\n",
        "    return y\n",
        "\n",
        "\n",
        "class Decoder(nn.Module):\n",
        "  def __init__(self, output_channels:int =1,*args, **kwargs):\n",
        "    super(Decoder, self).__init__(*args, **kwargs)\n",
        "    self.output_channels = output_channels\n",
        "    self.layer1 = nn.ConvTranspose2d(3,5, 3)\n",
        "    self.layer2 = nn.ConvTranspose2d(5,10,3)\n",
        "    self.layer3 = nn.ConvTranspose2d(10,20,3)\n",
        "    self.layer4 = nn.ConvTranspose2d(20,self.output_channels,3)\n",
        "\n",
        "  def forward(self, x):\n",
        "    y = F.relu(self.layer1(x))\n",
        "    y = F.relu(self.layer2(y))\n",
        "    y = F.relu(self.layer3(y))\n",
        "    y = self.layer4(y)\n",
        "    return y\n",
        "\n",
        "\n",
        "class Autoencoder(nn.Module):\n",
        "  def __init__(self,*args,**kwargs):\n",
        "    super(Autoencoder,self).__init__(*args,**kwargs)\n",
        "    self.encoder = Encoder(*args,**kwargs)\n",
        "    self.decoder = Decoder(*args,**kwargs)\n",
        "\n",
        "  def forward(self, x):\n",
        "    y = self.encoder(x)\n",
        "    y = self.decoder(y)\n",
        "    return y\n"
      ],
      "metadata": {
        "id": "r7a1BOPT_Zk1"
      },
      "execution_count": 48,
      "outputs": []
    },
    {
      "cell_type": "code",
      "source": [
        "x = torch.rand([7,1,28,28])\n",
        "encoder = Encoder()\n",
        "decoder = Decoder()\n",
        "y = encoder(x)\n",
        "z= decoder(y)\n",
        "print(y.shape,z.shape)"
      ],
      "metadata": {
        "colab": {
          "base_uri": "https://localhost:8080/"
        },
        "id": "oTEomRQ_TahQ",
        "outputId": "6191f602-56bd-4bab-efc4-bf66a99e2c66"
      },
      "execution_count": 49,
      "outputs": [
        {
          "output_type": "stream",
          "name": "stdout",
          "text": [
            "torch.Size([7, 3, 20, 20]) torch.Size([7, 1, 28, 28])\n"
          ]
        }
      ]
    },
    {
      "cell_type": "code",
      "source": [
        "DATASET = torchvision.datasets.MNIST\n",
        "EPOCHS = 3\n",
        "BATCH_SIZE = 32\n",
        "SPLIT_FN = torch.utils.data.random_split\n",
        "VAL_SPLIT = 0.35\n",
        "SEED = 90\n",
        "SHAPE =(1,28,28)\n",
        "\n",
        "def load_datasets(dataset = DATASET, batch_size = BATCH_SIZE, split_fn = SPLIT_FN, val_split = VAL_SPLIT ,seed:int = SEED):\n",
        "    '''\n",
        "    Given a dataset, batch size, and validation dataset fraction, it returns 3 lists of corresponding DataLoaders for train, validation, test\n",
        "    :param val_split: float\n",
        "    :param seed: int\n",
        "    '''\n",
        "    # Download and transform dataset (train and test)\n",
        "    normalizer=transforms.Normalize([0.5]*SHAPE[0], [0.5]*SHAPE[0])\n",
        "    transform = transforms.Compose(\n",
        "        [transforms.ToTensor(),\n",
        "         normalizer,\n",
        "         ]\n",
        "    )\n",
        "    trainvalset = dataset(\"./dataset\", train=True, download=True, transform=transform)\n",
        "    testset  = dataset(\"./dataset\", train=False,download=True, transform=transform)\n",
        "    len_val = int( len(trainvalset) * val_split )\n",
        "    len_train = len(trainvalset) - len_val\n",
        "    lengths = [len_train, len_val]\n",
        "    trainset, valset = split_fn(trainvalset, lengths, torch.Generator().manual_seed(seed))\n",
        "    trainloader =DataLoader(trainset, batch_size=BATCH_SIZE, shuffle=True)\n",
        "    valloader   =DataLoader(valset, batch_size=BATCH_SIZE)\n",
        "    testloader  =DataLoader(testset, batch_size=BATCH_SIZE)\n",
        "    return trainloader, valloader, testloader\n",
        "\n",
        "trainloader, valloader, testloader =load_datasets()"
      ],
      "metadata": {
        "id": "n8iTqg-gEHRs"
      },
      "execution_count": 50,
      "outputs": []
    },
    {
      "cell_type": "code",
      "source": [
        "def train(net, trainloader, epochs):\n",
        "    \"\"\"Train the network on the training set.\"\"\"\n",
        "    criterion = torch.nn.MSELoss()\n",
        "    optimizer = optimizer = torch.optim.Adam(net.parameters(), lr=0.01, weight_decay=1e-5)\n",
        "    for _ in range(epochs):\n",
        "        for images, _ in trainloader:\n",
        "            images = images.to(DEVICE)\n",
        "            optimizer.zero_grad()\n",
        "            loss = criterion(net(images), images)\n",
        "            loss.backward()\n",
        "            #for name, param in net.named_parameters():\n",
        "            #    if param.grad is not None:\n",
        "            #        print(f\"Layer: {name}, Gradients: {param.grad.mean()}\")\n",
        "            optimizer.step()\n",
        "\n",
        "def test(net, testloader):\n",
        "    \"\"\"Validate the network on the entire test set.\"\"\"\n",
        "    criterion = torch.nn.MSELoss()\n",
        "    correct, total, loss = 0, 0, 0.0\n",
        "    with torch.no_grad():\n",
        "        for images,_ in testloader:\n",
        "            images = images.to(DEVICE)\n",
        "            outputs = net(images)\n",
        "            loss += criterion(outputs, images).item()\n",
        "    return loss"
      ],
      "metadata": {
        "id": "px9XZT76G8A7"
      },
      "execution_count": 51,
      "outputs": []
    },
    {
      "cell_type": "code",
      "source": [
        "net = Autoencoder()\n",
        "net= net.to(DEVICE)\n",
        "\n",
        "for epoch in range(EPOCHS):\n",
        "    train(net, trainloader, 1)\n",
        "    loss = test(net, valloader)\n",
        "    print(f\"Epoch {epoch+1}: validation loss {loss}\")\n",
        "\n",
        "loss = test(net, testloader)\n",
        "print(f\"Final test set performance:\\n\\tloss {loss}\")"
      ],
      "metadata": {
        "colab": {
          "base_uri": "https://localhost:8080/"
        },
        "id": "saQ_0kVzKyai",
        "outputId": "0e98b79a-e006-4e0e-cc88-dd4dd1a3cd19"
      },
      "execution_count": 7,
      "outputs": [
        {
          "output_type": "stream",
          "name": "stdout",
          "text": [
            "Epoch 1: validation loss 1.4579142121365294\n",
            "Epoch 2: validation loss 1.0587563860462978\n",
            "Epoch 3: validation loss 1.0201880926615559\n",
            "Final test set performance:\n",
            "\tloss 0.48209201433928683\n"
          ]
        }
      ]
    },
    {
      "cell_type": "code",
      "source": [
        "from itertools import product\n",
        "from collections import OrderedDict\n",
        "BATCH_SIZES = (60,80,100,120,140)\n",
        "EPOCHS = 15\n",
        "best= float('inf')\n",
        "weights = None\n",
        "hyperparam_space=[]\n",
        "for batch_size in BATCH_SIZES:\n",
        "  load_datasets(dataset = DATASET, batch_size = batch_size, split_fn = SPLIT_FN, val_split = VAL_SPLIT ,seed = SEED)\n",
        "  torch.manual_seed(68)\n",
        "  if torch.cuda.is_available():\n",
        "    torch.cuda.manual_seed_all(68)\n",
        "  net = Autoencoder()\n",
        "  net= net.to(DEVICE)\n",
        "\n",
        "  for epoch in range(1,EPOCHS):\n",
        "    print(f'----------Training on {batch_size} batch size and {epoch} epochs-----------')\n",
        "    train(net, trainloader, 1)\n",
        "    loss = test(net, valloader)\n",
        "    print(f\"Epoch {epoch+1}: validation loss {loss}\")\n",
        "    test_loss = test(net, testloader)\n",
        "    print(f\"Final test set performance:\\n\\tloss {test_loss}\\n\")\n",
        "    if test_loss<best:\n",
        "      best = test_loss\n",
        "      weights = OrderedDict({name:val.cpu() for name, val in net.state_dict().items()})\n",
        "    hyperparam_space.append([batch_size,epoch, test_loss])\n",
        "net.load_state_dict(weights, strict=True)"
      ],
      "metadata": {
        "colab": {
          "base_uri": "https://localhost:8080/"
        },
        "id": "2rHJhKGbaGVJ",
        "outputId": "a6e930db-60ed-4de4-b472-233b45f597ff"
      },
      "execution_count": 53,
      "outputs": [
        {
          "output_type": "stream",
          "name": "stdout",
          "text": [
            "----------Training on 60 batch size and 1 epochs-----------\n",
            "Epoch 2: validation loss 1.2969369174097665\n",
            "Final test set performance:\n",
            "\tloss 0.5957743800245225\n",
            "\n",
            "----------Training on 60 batch size and 2 epochs-----------\n",
            "Epoch 3: validation loss 0.7673025402182247\n",
            "Final test set performance:\n",
            "\tloss 0.3446513739763759\n",
            "\n",
            "----------Training on 60 batch size and 3 epochs-----------\n",
            "Epoch 4: validation loss 2.300071899779141\n",
            "Final test set performance:\n",
            "\tloss 1.0783536825329065\n",
            "\n",
            "----------Training on 60 batch size and 4 epochs-----------\n",
            "Epoch 5: validation loss 0.806939072383102\n",
            "Final test set performance:\n",
            "\tloss 0.36805600638035685\n",
            "\n",
            "----------Training on 60 batch size and 5 epochs-----------\n",
            "Epoch 6: validation loss 1.4243860534625128\n",
            "Final test set performance:\n",
            "\tloss 0.6623334916075692\n",
            "\n",
            "----------Training on 60 batch size and 6 epochs-----------\n",
            "Epoch 7: validation loss 0.5510413896408863\n",
            "Final test set performance:\n",
            "\tloss 0.25384330851375125\n",
            "\n",
            "----------Training on 60 batch size and 7 epochs-----------\n",
            "Epoch 8: validation loss 0.5077153614256531\n",
            "Final test set performance:\n",
            "\tloss 0.2338957131432835\n",
            "\n",
            "----------Training on 60 batch size and 8 epochs-----------\n",
            "Epoch 9: validation loss 2.9000189912039787\n",
            "Final test set performance:\n",
            "\tloss 1.3952232357114553\n",
            "\n",
            "----------Training on 60 batch size and 9 epochs-----------\n",
            "Epoch 10: validation loss 0.8233524147653952\n",
            "Final test set performance:\n",
            "\tloss 0.37338548101251945\n",
            "\n",
            "----------Training on 60 batch size and 10 epochs-----------\n",
            "Epoch 11: validation loss 1.224537924863398\n",
            "Final test set performance:\n",
            "\tloss 0.5617255177930929\n",
            "\n",
            "----------Training on 60 batch size and 11 epochs-----------\n",
            "Epoch 12: validation loss 2.455696309218183\n",
            "Final test set performance:\n",
            "\tloss 1.1582841090857983\n",
            "\n",
            "----------Training on 60 batch size and 12 epochs-----------\n",
            "Epoch 13: validation loss 1.242373270331882\n",
            "Final test set performance:\n",
            "\tloss 0.5689306306303479\n",
            "\n",
            "----------Training on 60 batch size and 13 epochs-----------\n",
            "Epoch 14: validation loss 0.7319648080156185\n",
            "Final test set performance:\n",
            "\tloss 0.3363040604162961\n",
            "\n",
            "----------Training on 60 batch size and 14 epochs-----------\n",
            "Epoch 15: validation loss 0.8385284921969287\n",
            "Final test set performance:\n",
            "\tloss 0.3886248532216996\n",
            "\n",
            "----------Training on 80 batch size and 1 epochs-----------\n",
            "Epoch 2: validation loss 1.3876359311398119\n",
            "Final test set performance:\n",
            "\tloss 0.6439718997571617\n",
            "\n",
            "----------Training on 80 batch size and 2 epochs-----------\n",
            "Epoch 3: validation loss 0.6597377282741945\n",
            "Final test set performance:\n",
            "\tloss 0.3018286875449121\n",
            "\n",
            "----------Training on 80 batch size and 3 epochs-----------\n",
            "Epoch 4: validation loss 0.45085014536743984\n",
            "Final test set performance:\n",
            "\tloss 0.2064391481981147\n",
            "\n",
            "----------Training on 80 batch size and 4 epochs-----------\n",
            "Epoch 5: validation loss 0.492065296304645\n",
            "Final test set performance:\n",
            "\tloss 0.23025744513142854\n",
            "\n",
            "----------Training on 80 batch size and 5 epochs-----------\n",
            "Epoch 6: validation loss 0.3655049376975512\n",
            "Final test set performance:\n",
            "\tloss 0.16566016171418596\n",
            "\n",
            "----------Training on 80 batch size and 6 epochs-----------\n",
            "Epoch 7: validation loss 0.3799117002199637\n",
            "Final test set performance:\n",
            "\tloss 0.17501215753145516\n",
            "\n",
            "----------Training on 80 batch size and 7 epochs-----------\n",
            "Epoch 8: validation loss 1.1999869027058594\n",
            "Final test set performance:\n",
            "\tloss 0.5683284913538955\n",
            "\n",
            "----------Training on 80 batch size and 8 epochs-----------\n",
            "Epoch 9: validation loss 1.096320114156697\n",
            "Final test set performance:\n",
            "\tloss 0.4931535263895057\n",
            "\n",
            "----------Training on 80 batch size and 9 epochs-----------\n",
            "Epoch 10: validation loss 1.1299342812271789\n",
            "Final test set performance:\n",
            "\tloss 0.5131688179681078\n",
            "\n",
            "----------Training on 80 batch size and 10 epochs-----------\n",
            "Epoch 11: validation loss 9.340155767276883\n",
            "Final test set performance:\n",
            "\tloss 4.354198922403157\n",
            "\n",
            "----------Training on 80 batch size and 11 epochs-----------\n",
            "Epoch 12: validation loss 1.2234294762602076\n",
            "Final test set performance:\n",
            "\tloss 0.5807628250913695\n",
            "\n",
            "----------Training on 80 batch size and 12 epochs-----------\n",
            "Epoch 13: validation loss 0.46071935814688914\n",
            "Final test set performance:\n",
            "\tloss 0.2081475484301336\n",
            "\n",
            "----------Training on 80 batch size and 13 epochs-----------\n",
            "Epoch 14: validation loss 0.40901857714925427\n",
            "Final test set performance:\n",
            "\tloss 0.18777780036907643\n",
            "\n",
            "----------Training on 80 batch size and 14 epochs-----------\n",
            "Epoch 15: validation loss 0.34774858293530997\n",
            "Final test set performance:\n",
            "\tloss 0.15620700348517857\n",
            "\n",
            "----------Training on 100 batch size and 1 epochs-----------\n",
            "Epoch 2: validation loss 1.9389210264198482\n",
            "Final test set performance:\n",
            "\tloss 0.905996432993561\n",
            "\n",
            "----------Training on 100 batch size and 2 epochs-----------\n",
            "Epoch 3: validation loss 0.8155054278904572\n",
            "Final test set performance:\n",
            "\tloss 0.37576726329280064\n",
            "\n",
            "----------Training on 100 batch size and 3 epochs-----------\n",
            "Epoch 4: validation loss 0.6926619855803438\n",
            "Final test set performance:\n",
            "\tloss 0.31779915394145064\n",
            "\n",
            "----------Training on 100 batch size and 4 epochs-----------\n",
            "Epoch 5: validation loss 0.9708939585252665\n",
            "Final test set performance:\n",
            "\tloss 0.4522425540490076\n",
            "\n",
            "----------Training on 100 batch size and 5 epochs-----------\n",
            "Epoch 6: validation loss 3.395043236669153\n",
            "Final test set performance:\n",
            "\tloss 1.5969663022551686\n",
            "\n",
            "----------Training on 100 batch size and 6 epochs-----------\n",
            "Epoch 7: validation loss 1.056780376122333\n",
            "Final test set performance:\n",
            "\tloss 0.4844261402031407\n",
            "\n",
            "----------Training on 100 batch size and 7 epochs-----------\n",
            "Epoch 8: validation loss 2.10306940600276\n",
            "Final test set performance:\n",
            "\tloss 0.9817895879969001\n",
            "\n",
            "----------Training on 100 batch size and 8 epochs-----------\n",
            "Epoch 9: validation loss 1.6047296199249104\n",
            "Final test set performance:\n",
            "\tloss 0.7388307012151927\n",
            "\n",
            "----------Training on 100 batch size and 9 epochs-----------\n",
            "Epoch 10: validation loss 1.7046146158827469\n",
            "Final test set performance:\n",
            "\tloss 0.7916255174204707\n",
            "\n",
            "----------Training on 100 batch size and 10 epochs-----------\n",
            "Epoch 11: validation loss 1.572572054574266\n",
            "Final test set performance:\n",
            "\tloss 0.7218156775925308\n",
            "\n",
            "----------Training on 100 batch size and 11 epochs-----------\n",
            "Epoch 12: validation loss 0.6098751885001548\n",
            "Final test set performance:\n",
            "\tloss 0.278964471508516\n",
            "\n",
            "----------Training on 100 batch size and 12 epochs-----------\n",
            "Epoch 13: validation loss 0.6272718348773196\n",
            "Final test set performance:\n",
            "\tloss 0.2852466047042981\n",
            "\n",
            "----------Training on 100 batch size and 13 epochs-----------\n",
            "Epoch 14: validation loss 0.8080879913759418\n",
            "Final test set performance:\n",
            "\tloss 0.36744631733745337\n",
            "\n",
            "----------Training on 100 batch size and 14 epochs-----------\n",
            "Epoch 15: validation loss 0.8506722386227921\n",
            "Final test set performance:\n",
            "\tloss 0.399110873171594\n",
            "\n",
            "----------Training on 120 batch size and 1 epochs-----------\n",
            "Epoch 2: validation loss 1.4239938807440922\n",
            "Final test set performance:\n",
            "\tloss 0.6586401235545054\n",
            "\n",
            "----------Training on 120 batch size and 2 epochs-----------\n",
            "Epoch 3: validation loss 0.6896618333994411\n",
            "Final test set performance:\n",
            "\tloss 0.3166544684499968\n",
            "\n",
            "----------Training on 120 batch size and 3 epochs-----------\n",
            "Epoch 4: validation loss 0.5469106483797077\n",
            "Final test set performance:\n",
            "\tloss 0.25191877235192806\n",
            "\n",
            "----------Training on 120 batch size and 4 epochs-----------\n",
            "Epoch 5: validation loss 0.6082023873459548\n",
            "Final test set performance:\n",
            "\tloss 0.28616519807837903\n",
            "\n",
            "----------Training on 120 batch size and 5 epochs-----------\n",
            "Epoch 6: validation loss 0.3415101276914356\n",
            "Final test set performance:\n",
            "\tloss 0.15529388427967206\n",
            "\n",
            "----------Training on 120 batch size and 6 epochs-----------\n",
            "Epoch 7: validation loss 0.5752063890686259\n",
            "Final test set performance:\n",
            "\tloss 0.2716914003540296\n",
            "\n",
            "----------Training on 120 batch size and 7 epochs-----------\n",
            "Epoch 8: validation loss 1.0800783302402124\n",
            "Final test set performance:\n",
            "\tloss 0.5145457059843466\n",
            "\n",
            "----------Training on 120 batch size and 8 epochs-----------\n",
            "Epoch 9: validation loss 0.30778479628497735\n",
            "Final test set performance:\n",
            "\tloss 0.14094651908089872\n",
            "\n",
            "----------Training on 120 batch size and 9 epochs-----------\n",
            "Epoch 10: validation loss 0.3358706855942728\n",
            "Final test set performance:\n",
            "\tloss 0.15329134424973745\n",
            "\n",
            "----------Training on 120 batch size and 10 epochs-----------\n",
            "Epoch 11: validation loss 1.0850629418855533\n",
            "Final test set performance:\n",
            "\tloss 0.4962128789629787\n",
            "\n",
            "----------Training on 120 batch size and 11 epochs-----------\n",
            "Epoch 12: validation loss 0.6671808817773126\n",
            "Final test set performance:\n",
            "\tloss 0.30241914885118604\n",
            "\n",
            "----------Training on 120 batch size and 12 epochs-----------\n",
            "Epoch 13: validation loss 0.519917009252822\n",
            "Final test set performance:\n",
            "\tloss 0.23608256818260998\n",
            "\n",
            "----------Training on 120 batch size and 13 epochs-----------\n",
            "Epoch 14: validation loss 0.4711633427068591\n",
            "Final test set performance:\n",
            "\tloss 0.21868276939494535\n",
            "\n",
            "----------Training on 120 batch size and 14 epochs-----------\n",
            "Epoch 15: validation loss 0.7068005629698746\n",
            "Final test set performance:\n",
            "\tloss 0.3216590534429997\n",
            "\n",
            "----------Training on 140 batch size and 1 epochs-----------\n",
            "Epoch 2: validation loss 1.3348714205203578\n",
            "Final test set performance:\n",
            "\tloss 0.6179490408976562\n",
            "\n",
            "----------Training on 140 batch size and 2 epochs-----------\n",
            "Epoch 3: validation loss 0.7477263920882251\n",
            "Final test set performance:\n",
            "\tloss 0.3409424131095875\n",
            "\n",
            "----------Training on 140 batch size and 3 epochs-----------\n",
            "Epoch 4: validation loss 0.7905242119450122\n",
            "Final test set performance:\n",
            "\tloss 0.3637750168563798\n",
            "\n",
            "----------Training on 140 batch size and 4 epochs-----------\n",
            "Epoch 5: validation loss 0.9003823882667348\n",
            "Final test set performance:\n",
            "\tloss 0.4178341404767707\n",
            "\n",
            "----------Training on 140 batch size and 5 epochs-----------\n",
            "Epoch 6: validation loss 0.9152222030679695\n",
            "Final test set performance:\n",
            "\tloss 0.43166902026860043\n",
            "\n",
            "----------Training on 140 batch size and 6 epochs-----------\n",
            "Epoch 7: validation loss 0.8031444189837202\n",
            "Final test set performance:\n",
            "\tloss 0.3709583254531026\n",
            "\n",
            "----------Training on 140 batch size and 7 epochs-----------\n",
            "Epoch 8: validation loss 0.5326522046525497\n",
            "Final test set performance:\n",
            "\tloss 0.2433740404958371\n",
            "\n",
            "----------Training on 140 batch size and 8 epochs-----------\n",
            "Epoch 9: validation loss 1.1904968126909807\n",
            "Final test set performance:\n",
            "\tloss 0.5582136408193037\n",
            "\n",
            "----------Training on 140 batch size and 9 epochs-----------\n",
            "Epoch 10: validation loss 0.8430600635474548\n",
            "Final test set performance:\n",
            "\tloss 0.37939512537559494\n",
            "\n",
            "----------Training on 140 batch size and 10 epochs-----------\n",
            "Epoch 11: validation loss 0.5848703621304594\n",
            "Final test set performance:\n",
            "\tloss 0.264814550668234\n",
            "\n",
            "----------Training on 140 batch size and 11 epochs-----------\n",
            "Epoch 12: validation loss 0.4318613178911619\n",
            "Final test set performance:\n",
            "\tloss 0.19683335375157185\n",
            "\n",
            "----------Training on 140 batch size and 12 epochs-----------\n",
            "Epoch 13: validation loss 65.18443609029055\n",
            "Final test set performance:\n",
            "\tloss 31.952890649437904\n",
            "\n",
            "----------Training on 140 batch size and 13 epochs-----------\n",
            "Epoch 14: validation loss 0.48650934296892956\n",
            "Final test set performance:\n",
            "\tloss 0.22139580134535208\n",
            "\n",
            "----------Training on 140 batch size and 14 epochs-----------\n",
            "Epoch 15: validation loss 1.1439792407909408\n",
            "Final test set performance:\n",
            "\tloss 0.5282126039965078\n",
            "\n"
          ]
        },
        {
          "output_type": "execute_result",
          "data": {
            "text/plain": [
              "<All keys matched successfully>"
            ]
          },
          "metadata": {},
          "execution_count": 53
        }
      ]
    },
    {
      "cell_type": "code",
      "source": [
        "print(f'Best loss: {best}')\n",
        "torch.save(net.state_dict(), 'conv_autoencoder_raw.pth')"
      ],
      "metadata": {
        "colab": {
          "base_uri": "https://localhost:8080/"
        },
        "id": "cQAfwoyzkj1X",
        "outputId": "af1b42cb-0558-47d4-9c28-c8d40f5c01a9"
      },
      "execution_count": 54,
      "outputs": [
        {
          "output_type": "stream",
          "name": "stdout",
          "text": [
            "Best loss: 0.14094651908089872\n"
          ]
        }
      ]
    },
    {
      "cell_type": "code",
      "source": [
        "import numpy as np\n",
        "import matplotlib.pyplot as plt\n",
        "from scipy.interpolate import griddata\n",
        "# batch   epoch   loss\n",
        "x_data, y_data, f_data = zip(*hyperparam_space)\n",
        "x_grid, y_grid = np.meshgrid(np.linspace(min(x_data), max(x_data), 100),\n",
        "                             np.linspace(min(y_data), max(y_data), 100))\n",
        "\n",
        "f_interp = griddata((x_data, y_data), f_data, (x_grid, y_grid), method='cubic')\n"
      ],
      "metadata": {
        "id": "o9y3os1iuXOa"
      },
      "execution_count": 55,
      "outputs": []
    },
    {
      "cell_type": "code",
      "source": [
        "plt.imshow(f_interp, extent=(min(x_data), max(x_data), min(y_data), max(y_data)),\n",
        "           origin='lower', aspect='auto')\n",
        "plt.scatter(x_data, y_data, c=f_data, cmap='viridis')  # Optional: plot the original data points\n",
        "plt.colorbar(label='loss(batch_size, epochs)')  # Optional: Add a colorbar for f(x, y) values\n",
        "plt.xlabel('batch size')\n",
        "plt.ylabel('epochs')\n",
        "plt.title('MSE')\n",
        "plt.show()"
      ],
      "metadata": {
        "colab": {
          "base_uri": "https://localhost:8080/",
          "height": 472
        },
        "id": "fyYnlrHqw6GU",
        "outputId": "b1e35893-20e5-4186-894b-709585e8ef76"
      },
      "execution_count": 56,
      "outputs": [
        {
          "output_type": "display_data",
          "data": {
            "text/plain": [
              "<Figure size 640x480 with 2 Axes>"
            ],
            "image/png": "[encoded data removed]"
          },
          "metadata": {}
        }
      ]
    },
    {
      "cell_type": "code",
      "source": [
        "BATCH_SIZES = (150,160)\n",
        "EPOCHS = 16\n",
        "hyperparam_space_tuned=[]\n",
        "best_tuned = float('inf')\n",
        "weights_tuned = None\n",
        "for batch_size in BATCH_SIZES:\n",
        "\n",
        "  torch.manual_seed(68)\n",
        "  if torch.cuda.is_available():\n",
        "    torch.cuda.manual_seed_all(68)\n",
        "  net_tuned = Autoencoder()\n",
        "  net_tuned= net_tuned.to(DEVICE)\n",
        "\n",
        "  for epoch in range(1,EPOCHS):\n",
        "    print(f'----------Training on {batch_size} batch size and {epoch} epochs-----------')\n",
        "    train(net_tuned, trainloader, 1)\n",
        "    loss = test(net_tuned, valloader)\n",
        "    print(f\"Epoch {epoch+1}: validation loss {loss}\")\n",
        "    test_loss = test(net_tuned, testloader)\n",
        "    print(f\"Final test set performance:\\n\\tloss {test_loss}\\n\")\n",
        "    if test_loss<best_tuned:\n",
        "      best_tuned = test_loss\n",
        "      weights_tuned = OrderedDict({name:val.cpu() for name, val in net_tuned.state_dict().items()})\n",
        "    hyperparam_space_tuned.append([batch_size,epoch, test_loss])\n",
        "net_tuned.load_state_dict(weights_tuned, strict=True)"
      ],
      "metadata": {
        "colab": {
          "base_uri": "https://localhost:8080/"
        },
        "id": "bQqe5XAIxH91",
        "outputId": "41769480-00de-49ad-892f-bd8cb18807f7"
      },
      "execution_count": 57,
      "outputs": [
        {
          "output_type": "stream",
          "name": "stdout",
          "text": [
            "----------Training on 150 batch size and 1 epochs-----------\n",
            "Epoch 2: validation loss 1.3426605323329568\n",
            "Final test set performance:\n",
            "\tloss 0.6207475163391791\n",
            "\n",
            "----------Training on 150 batch size and 2 epochs-----------\n",
            "Epoch 3: validation loss 0.8352311707567424\n",
            "Final test set performance:\n",
            "\tloss 0.38413256529020146\n",
            "\n",
            "----------Training on 150 batch size and 3 epochs-----------\n",
            "Epoch 4: validation loss 0.42149085785786156\n",
            "Final test set performance:\n",
            "\tloss 0.192750746908132\n",
            "\n",
            "----------Training on 150 batch size and 4 epochs-----------\n",
            "Epoch 5: validation loss 0.9957976397126913\n",
            "Final test set performance:\n",
            "\tloss 0.46107411629054695\n",
            "\n",
            "----------Training on 150 batch size and 5 epochs-----------\n",
            "Epoch 6: validation loss 0.516245619073743\n",
            "Final test set performance:\n",
            "\tloss 0.2369319452845957\n",
            "\n",
            "----------Training on 150 batch size and 6 epochs-----------\n",
            "Epoch 7: validation loss 1.1225259258062579\n",
            "Final test set performance:\n",
            "\tloss 0.5180773921892978\n",
            "\n",
            "----------Training on 150 batch size and 7 epochs-----------\n",
            "Epoch 8: validation loss 0.8632768007810228\n",
            "Final test set performance:\n",
            "\tloss 0.3910588889848441\n",
            "\n",
            "----------Training on 150 batch size and 8 epochs-----------\n",
            "Epoch 9: validation loss 1.9611718576634303\n",
            "Final test set performance:\n",
            "\tloss 0.94431964866817\n",
            "\n",
            "----------Training on 150 batch size and 9 epochs-----------\n",
            "Epoch 10: validation loss 2.1238181836670265\n",
            "Final test set performance:\n",
            "\tloss 0.9843868892639875\n",
            "\n",
            "----------Training on 150 batch size and 10 epochs-----------\n",
            "Epoch 11: validation loss 1.1374738512095064\n",
            "Final test set performance:\n",
            "\tloss 0.5303198879119009\n",
            "\n",
            "----------Training on 150 batch size and 11 epochs-----------\n",
            "Epoch 12: validation loss 0.8501126790652052\n",
            "Final test set performance:\n",
            "\tloss 0.3945421825046651\n",
            "\n",
            "----------Training on 150 batch size and 12 epochs-----------\n",
            "Epoch 13: validation loss 1.0459664855152369\n",
            "Final test set performance:\n",
            "\tloss 0.48438280285336077\n",
            "\n",
            "----------Training on 150 batch size and 13 epochs-----------\n",
            "Epoch 14: validation loss 6.696632828563452\n",
            "Final test set performance:\n",
            "\tloss 3.098470960278064\n",
            "\n",
            "----------Training on 150 batch size and 14 epochs-----------\n",
            "Epoch 15: validation loss 0.5953550718841143\n",
            "Final test set performance:\n",
            "\tloss 0.26995683580753393\n",
            "\n",
            "----------Training on 150 batch size and 15 epochs-----------\n",
            "Epoch 16: validation loss 0.6312545125256293\n",
            "Final test set performance:\n",
            "\tloss 0.2947486527846195\n",
            "\n",
            "----------Training on 160 batch size and 1 epochs-----------\n",
            "Epoch 2: validation loss 1.526306044193916\n",
            "Final test set performance:\n",
            "\tloss 0.7099927816307172\n",
            "\n",
            "----------Training on 160 batch size and 2 epochs-----------\n",
            "Epoch 3: validation loss 0.8306822687154636\n",
            "Final test set performance:\n",
            "\tloss 0.38688455324154347\n",
            "\n",
            "----------Training on 160 batch size and 3 epochs-----------\n",
            "Epoch 4: validation loss 0.6670621555531397\n",
            "Final test set performance:\n",
            "\tloss 0.30781996811856516\n",
            "\n",
            "----------Training on 160 batch size and 4 epochs-----------\n",
            "Epoch 5: validation loss 1.0872165417531505\n",
            "Final test set performance:\n",
            "\tloss 0.5190059469314292\n",
            "\n",
            "----------Training on 160 batch size and 5 epochs-----------\n",
            "Epoch 6: validation loss 0.37450676126172766\n",
            "Final test set performance:\n",
            "\tloss 0.1697182922216598\n",
            "\n",
            "----------Training on 160 batch size and 6 epochs-----------\n",
            "Epoch 7: validation loss 0.3520944660413079\n",
            "Final test set performance:\n",
            "\tloss 0.1625617402169155\n",
            "\n",
            "----------Training on 160 batch size and 7 epochs-----------\n",
            "Epoch 8: validation loss 0.766170481336303\n",
            "Final test set performance:\n",
            "\tloss 0.3458584739419166\n",
            "\n",
            "----------Training on 160 batch size and 8 epochs-----------\n",
            "Epoch 9: validation loss 0.9816569562535733\n",
            "Final test set performance:\n",
            "\tloss 0.46003965177806094\n",
            "\n",
            "----------Training on 160 batch size and 9 epochs-----------\n",
            "Epoch 10: validation loss 0.5008836609777063\n",
            "Final test set performance:\n",
            "\tloss 0.22581203846493736\n",
            "\n",
            "----------Training on 160 batch size and 10 epochs-----------\n",
            "Epoch 11: validation loss 0.3243078715750016\n",
            "Final test set performance:\n",
            "\tloss 0.1459909698460251\n",
            "\n",
            "----------Training on 160 batch size and 11 epochs-----------\n",
            "Epoch 12: validation loss 1.0949428107123822\n",
            "Final test set performance:\n",
            "\tloss 0.5105526444967836\n",
            "\n",
            "----------Training on 160 batch size and 12 epochs-----------\n",
            "Epoch 13: validation loss 0.9402031323988922\n",
            "Final test set performance:\n",
            "\tloss 0.43250258517218754\n",
            "\n",
            "----------Training on 160 batch size and 13 epochs-----------\n",
            "Epoch 14: validation loss 0.6486850119545124\n",
            "Final test set performance:\n",
            "\tloss 0.2973055523762014\n",
            "\n",
            "----------Training on 160 batch size and 14 epochs-----------\n",
            "Epoch 15: validation loss 0.4736121798923705\n",
            "Final test set performance:\n",
            "\tloss 0.21531384758418426\n",
            "\n",
            "----------Training on 160 batch size and 15 epochs-----------\n",
            "Epoch 16: validation loss 0.5232527085172478\n",
            "Final test set performance:\n",
            "\tloss 0.2381355332036037\n",
            "\n"
          ]
        },
        {
          "output_type": "execute_result",
          "data": {
            "text/plain": [
              "<All keys matched successfully>"
            ]
          },
          "metadata": {},
          "execution_count": 57
        }
      ]
    },
    {
      "cell_type": "code",
      "source": [
        "print(f'Best loss: {best_tuned}')\n",
        "torch.save(net.state_dict(), 'conv_autoencoder.pth')\n",
        "torch.save(net_tuned.state_dict(), 'conv_autoencoder_tuned.pth')"
      ],
      "metadata": {
        "colab": {
          "base_uri": "https://localhost:8080/"
        },
        "id": "0HwblJR42AJo",
        "outputId": "0fb4db84-4166-431f-e8c8-fe461d0c0d43"
      },
      "execution_count": 65,
      "outputs": [
        {
          "output_type": "stream",
          "name": "stdout",
          "text": [
            "Best loss: 0.1459909698460251\n"
          ]
        }
      ]
    },
    {
      "cell_type": "code",
      "source": [
        "x_tuned,y_tuned,f_tuned=zip(*hyperparam_space_tuned)\n",
        "x_datat = list(x_data)\n",
        "x_datat.extend(list(x_tuned))\n",
        "y_datat = list(y_data)\n",
        "y_datat.extend(list(y_tuned))\n",
        "f_datat = list(f_data)\n",
        "f_datat.extend(list(f_tuned))"
      ],
      "metadata": {
        "id": "8_Wh4Oeu2EtX"
      },
      "execution_count": 60,
      "outputs": []
    },
    {
      "cell_type": "code",
      "source": [
        "print(f_datat)"
      ],
      "metadata": {
        "colab": {
          "base_uri": "https://localhost:8080/"
        },
        "id": "VDzQg6R83rLw",
        "outputId": "cffb7334-d5dc-4c49-f5c9-a616819c7b05"
      },
      "execution_count": 61,
      "outputs": [
        {
          "output_type": "stream",
          "name": "stdout",
          "text": [
            "[0.5957743800245225, 0.3446513739763759, 1.0783536825329065, 0.36805600638035685, 0.6623334916075692, 0.25384330851375125, 0.2338957131432835, 1.3952232357114553, 0.37338548101251945, 0.5617255177930929, 1.1582841090857983, 0.5689306306303479, 0.3363040604162961, 0.3886248532216996, 0.6439718997571617, 0.3018286875449121, 0.2064391481981147, 0.23025744513142854, 0.16566016171418596, 0.17501215753145516, 0.5683284913538955, 0.4931535263895057, 0.5131688179681078, 4.354198922403157, 0.5807628250913695, 0.2081475484301336, 0.18777780036907643, 0.15620700348517857, 0.905996432993561, 0.37576726329280064, 0.31779915394145064, 0.4522425540490076, 1.5969663022551686, 0.4844261402031407, 0.9817895879969001, 0.7388307012151927, 0.7916255174204707, 0.7218156775925308, 0.278964471508516, 0.2852466047042981, 0.36744631733745337, 0.399110873171594, 0.6586401235545054, 0.3166544684499968, 0.25191877235192806, 0.28616519807837903, 0.15529388427967206, 0.2716914003540296, 0.5145457059843466, 0.14094651908089872, 0.15329134424973745, 0.4962128789629787, 0.30241914885118604, 0.23608256818260998, 0.21868276939494535, 0.3216590534429997, 0.6179490408976562, 0.3409424131095875, 0.3637750168563798, 0.4178341404767707, 0.43166902026860043, 0.3709583254531026, 0.2433740404958371, 0.5582136408193037, 0.37939512537559494, 0.264814550668234, 0.19683335375157185, 31.952890649437904, 0.22139580134535208, 0.5282126039965078, 0.6207475163391791, 0.38413256529020146, 0.192750746908132, 0.46107411629054695, 0.2369319452845957, 0.5180773921892978, 0.3910588889848441, 0.94431964866817, 0.9843868892639875, 0.5303198879119009, 0.3945421825046651, 0.48438280285336077, 3.098470960278064, 0.26995683580753393, 0.2947486527846195, 0.7099927816307172, 0.38688455324154347, 0.30781996811856516, 0.5190059469314292, 0.1697182922216598, 0.1625617402169155, 0.3458584739419166, 0.46003965177806094, 0.22581203846493736, 0.1459909698460251, 0.5105526444967836, 0.43250258517218754, 0.2973055523762014, 0.21531384758418426, 0.2381355332036037]\n"
          ]
        }
      ]
    },
    {
      "cell_type": "code",
      "source": [
        "\n",
        "x_gridt, y_gridt = np.meshgrid(np.linspace(min(x_datat), max(x_datat), 100),\n",
        "                             np.linspace(min(y_datat), max(y_datat), 100))\n",
        "\n",
        "f_interpt = griddata((x_datat, y_datat), f_datat, (x_gridt, y_gridt), method='cubic')\n"
      ],
      "metadata": {
        "id": "fj8Eshz02vd_"
      },
      "execution_count": 62,
      "outputs": []
    },
    {
      "cell_type": "code",
      "source": [
        "plt.imshow(f_interpt, extent=(min(x_datat), max(x_datat), min(y_datat), max(y_datat)),\n",
        "           origin='lower', aspect='auto')\n",
        "plt.scatter(x_datat, y_datat, c=f_datat, cmap='viridis')  # Optional: plot the original data points\n",
        "plt.colorbar(label='loss(batch_size, epochs)')  # Optional: Add a colorbar for f(x, y) values\n",
        "plt.xlabel('batch size')\n",
        "plt.ylabel('epochs')\n",
        "plt.title('MSE')\n",
        "plt.show()"
      ],
      "metadata": {
        "colab": {
          "base_uri": "https://localhost:8080/",
          "height": 472
        },
        "id": "_Xq1Nzs13hLg",
        "outputId": "fc9193a8-676c-4198-d1db-5dbc7953c2a8"
      },
      "execution_count": 63,
      "outputs": [
        {
          "output_type": "display_data",
          "data": {
            "text/plain": [
              "<Figure size 640x480 with 2 Axes>"
            ],
            "image/png": "[encoded data removed]"
          },
          "metadata": {}
        }
      ]
    }
  ]
}